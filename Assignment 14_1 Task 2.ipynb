{
 "cells": [
  {
   "cell_type": "code",
   "execution_count": null,
   "id": "e6a1dbd8-a0bf-4f21-9333-742eba7dcf74",
   "metadata": {},
   "outputs": [],
   "source": [
    "# Task 2.1"
   ]
  },
  {
   "cell_type": "code",
   "execution_count": 1,
   "id": "045501cc-2e97-4068-80d8-bbbe7dd094f9",
   "metadata": {},
   "outputs": [
    {
     "name": "stdout",
     "output_type": "stream",
     "text": [
      "Sum of digits 53872: 25\n"
     ]
    }
   ],
   "source": [
    "def sum_of_digits(n):\n",
    "    if n < 0:\n",
    "        return \"Error\"\n",
    "    elif n == 0:\n",
    "        return 0\n",
    "    else:\n",
    "        digit = n % 10\n",
    "        n = n // 10\n",
    "        return digit + sum_of_digits(n)\n",
    "result = sum_of_digits(53872)\n",
    "print(\"Sum of digits 53872:\", result)"
   ]
  },
  {
   "cell_type": "code",
   "execution_count": null,
   "id": "c4a0ea99-22ce-4f24-b6f1-96a68a4797f3",
   "metadata": {},
   "outputs": [],
   "source": [
    "# Task 2.2"
   ]
  },
  {
   "cell_type": "code",
   "execution_count": 2,
   "id": "3d4f8a5d-059a-48bb-a00a-dd20929d0310",
   "metadata": {},
   "outputs": [
    {
     "name": "stdout",
     "output_type": "stream",
     "text": [
      "Sum of numbers from 0 to 538: 144991\n"
     ]
    }
   ],
   "source": [
    "def summation(n):\n",
    "    if n == 0:\n",
    "        return 0\n",
    "    return n + summation(n - 1)\n",
    "result = summation(538)\n",
    "print(\"Sum of numbers from 0 to 538:\", result)"
   ]
  },
  {
   "cell_type": "code",
   "execution_count": null,
   "id": "17cd4fae-8777-4762-b572-cc1542e0f400",
   "metadata": {},
   "outputs": [],
   "source": [
    "# Task 2.3"
   ]
  },
  {
   "cell_type": "code",
   "execution_count": 3,
   "id": "40805cd0-8d8c-4fc4-aa25-12faa1504b42",
   "metadata": {},
   "outputs": [
    {
     "name": "stdout",
     "output_type": "stream",
     "text": [
      "Fibonacci value for 6: 8\n"
     ]
    }
   ],
   "source": [
    "def fibonacci(n):\n",
    "    if n <= 1:\n",
    "        return n\n",
    "    return fibonacci(n - 1) + fibonacci(n - 2)\n",
    "result = fibonacci(6)\n",
    "print(\"Fibonacci value for 6:\", result)"
   ]
  },
  {
   "cell_type": "code",
   "execution_count": null,
   "id": "9b503a02-1bfa-43ab-ac7b-23a59eb48875",
   "metadata": {},
   "outputs": [],
   "source": []
  }
 ],
 "metadata": {
  "kernelspec": {
   "display_name": "Python 3 (ipykernel)",
   "language": "python",
   "name": "python3"
  },
  "language_info": {
   "codemirror_mode": {
    "name": "ipython",
    "version": 3
   },
   "file_extension": ".py",
   "mimetype": "text/x-python",
   "name": "python",
   "nbconvert_exporter": "python",
   "pygments_lexer": "ipython3",
   "version": "3.11.7"
  }
 },
 "nbformat": 4,
 "nbformat_minor": 5
}
